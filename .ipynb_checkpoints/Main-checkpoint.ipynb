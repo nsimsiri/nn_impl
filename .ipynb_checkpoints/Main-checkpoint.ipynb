{
 "cells": [
  {
   "cell_type": "code",
   "execution_count": 2,
   "metadata": {
    "collapsed": false
   },
   "outputs": [],
   "source": [
    "from __future__ import division\n",
    "import numpy as np\n",
    "import matplotlib.pyplot as plot\n",
    "import theano\n",
    "from sklearn.datasets import fetch_mldata\n",
    "import sklearn.datasets as sk_data\n",
    "\n",
    "%matplotlib inline \n",
    "# mnist = fetch_mldata('MNIST original', data_home=sk_data.get_data_home())\n",
    "\n",
    "def vectorize_y(Y):\n",
    "    v_y = np.zeros((Y.shape[0], max(set(Y.flatten()))+1))\n",
    "    print v_y.shape\n",
    "    for i in range(len(Y)):\n",
    "        v_y[i][Y[i]] = 1.0\n",
    "    return v_y\n"
   ]
  },
  {
   "cell_type": "code",
   "execution_count": null,
   "metadata": {
    "collapsed": false
   },
   "outputs": [],
   "source": [
    "SPLIT_1 = 0.5\n",
    "SPLIT_2 = 0.75\n",
    "\n",
    "def shuffle(X, Y):\n",
    "    Y = np.array([Y.flatten()]).T\n",
    "    A = np.concatenate((X, Y),axis=1)\n",
    "    np.random.shuffle(A)\n",
    "    print A.shape\n",
    "    X_prime, Y_prime = np.hsplit(A, [-1])\n",
    "    if (set(Y_prime.flatten())!=set([0.0, 1.0, 2.0, 3.0, 4.0, 5.0, 6.0, 7.0, 8.0, 9.0])):\n",
    "        return shuffle(X,Y)\n",
    "    return X_prime, Y_prime\n",
    "\n",
    "\n",
    "XX, YY = shuffle(mnist.data, mnist.target)\n",
    "train_xx, test_xx = np.vsplit(XX, [len(mnist.data)*SPLIT_1])\n",
    "train_yy, test_yy = np.array_split(YY, [len(mnist.data)*SPLIT_1])\n",
    "\n",
    "train_x, test_x = np.vsplit(train_xx, [len(train_xx)*SPLIT_2])\n",
    "train_y, test_y = np.array_split(train_yy, [len(train_yy)*SPLIT_2])\n",
    "\n",
    "print train_x.shape\n",
    "print test_x.shape\n",
    "print train_y.shape\n",
    "print test_y.shape"
   ]
  },
  {
   "cell_type": "code",
   "execution_count": null,
   "metadata": {
    "collapsed": false
   },
   "outputs": [],
   "source": [
    "from sklearn.ensemble import RandomForestClassifier\n",
    "from sklearn.svm import LinearSVC\n",
    "from sklearn.metrics import accuracy_score\n",
    "from sklearn.preprocessing import scale\n",
    "from sklearn.pipeline import Pipeline\n",
    "from sklearn.model_selection import GridSearchCV\n",
    "from sklearn.decomposition import PCA\n",
    "\n",
    "\n",
    "# model = RandomForestClassifier()\n",
    "# model.fit(train_x, train_y)\n",
    "# y_prime = model.predict(test_x)\n",
    "\n",
    "# pipeline = Pipeline([('pca', PCA()), ('estimator', LinearSVC())])\n",
    "# param_grid = [\n",
    "#     {\n",
    "#         'pca': [PCA()]\n",
    "#     }\n",
    "# ]\n",
    "# model = GridSearchCV(pipeline, cv=2, param_grid=param_grid)\n",
    "# model.fit(train_x, train_y)\n",
    "# y_prime = model.predict(test_x)\n",
    "\n",
    "\n",
    "pca = PCA(svd_solver='randomized',whiten=True).fit(train_x)\n",
    "pca_train_x = pca.transform(train_x)\n",
    "pca_test_x = pca.transform(test_x)\n",
    "model = LinearSVC()\n",
    "model.fit(train_x, train_y)\n",
    "y_prime = model.predict(test_x)\n"
   ]
  },
  {
   "cell_type": "code",
   "execution_count": null,
   "metadata": {
    "collapsed": false
   },
   "outputs": [],
   "source": [
    "acc = accuracy_score(y_prime, test_y)\n",
    "print acc"
   ]
  },
  {
   "cell_type": "code",
   "execution_count": null,
   "metadata": {
    "collapsed": false
   },
   "outputs": [],
   "source": [
    "print type(mnist)\n",
    "print mnist.data.shape\n",
    "print mnist.target.shape\n",
    "img = mnist.data[0].reshape((28,28))\n",
    "print img.shape\n",
    "plot.subplot(1, 2, 1)\n",
    "plot.imshow(img, cmap=plot.cm.gray_r, interpolation='nearest')\n",
    "plot.subplot(1, 2, 2)\n",
    "plot.imshow(img, cmap=plot.cm.gray_r, interpolation='nearest')\n",
    "\n"
   ]
  },
  {
   "cell_type": "code",
   "execution_count": 8,
   "metadata": {
    "collapsed": false
   },
   "outputs": [
    {
     "data": {
      "image/png": "[encoded data removed]",
      "text/plain": [
       "<matplotlib.figure.Figure at 0x114762fd0>"
      ]
     },
     "metadata": {},
     "output_type": "display_data"
    }
   ],
   "source": [
    "from sklearn.datasets import make_blobs\n",
    "from sklearn.datasets import make_moons\n",
    "\n",
    "X,y = make_moons(n_samples=500, noise=0.1)\n",
    "# X,y = make_blobs(centers=2, cluster_std=0.5, n_samples=500)\n",
    "[x_train, x_test] = np.vsplit(X, [len(X)/2])\n",
    "[y_train, y_test] = np.vsplit(y.reshape(y.shape[0],1), [len(y)/2])\n",
    "K = np.hsplit(x_train, [1])\n",
    "\n",
    "X1 = [K[0][i] for i in range(len(y_train)) if y_train[i]!=0]\n",
    "X2 = [K[1][i] for i in range(len(y_train)) if y_train[i]!=0]\n",
    "\n",
    "X3 = [K[0][i] for i in range(len(y_train)) if y_train[i]==0]\n",
    "X4 = [K[1][i] for i in range(len(y_train)) if y_train[i]==0]\n",
    "\n",
    "plot.scatter(X1, X2, color='r', alpha=0.5)\n",
    "plot.scatter(X3, X4, color='b', alpha=0.5)\n",
    "\n",
    "K2 = np.hsplit(x_test, [1])\n"
   ]
  },
  {
   "cell_type": "code",
   "execution_count": 21,
   "metadata": {
    "collapsed": false,
    "scrolled": true
   },
   "outputs": [
    {
     "name": "stdout",
     "output_type": "stream",
     "text": [
      "[[1]\n",
      " [1]\n",
      " [1]\n",
      " [0]\n",
      " [0]\n",
      " [1]\n",
      " [0]\n",
      " [1]\n",
      " [0]\n",
      " [0]]\n",
      "(10, 2)\n",
      "[[ 0.  1.]\n",
      " [ 0.  1.]\n",
      " [ 0.  1.]\n",
      " [ 1.  0.]\n",
      " [ 1.  0.]\n",
      " [ 0.  1.]\n",
      " [ 1.  0.]\n",
      " [ 0.  1.]\n",
      " [ 1.  0.]\n",
      " [ 1.  0.]]\n",
      "size=2\n",
      "weight=(2, 10) bias=(1, 10) f=<function _NN__SIGMOID at 0x114965c08>\n",
      "size=10\n",
      "weight=(10, 2) bias=(1, 2) f=<function _NN__SIGMOID at 0x114965c08>\n",
      "size=2\n"
     ]
    }
   ],
   "source": [
    "from sklearn.linear_model import LogisticRegression\n",
    "import NN\n",
    "from NN import NN\n",
    "from sklearn.metrics import accuracy_score\n",
    "from NN import shuffle\n",
    "\n",
    "# model = LogisticRegression()\n",
    "# model.fit(x_train, y_train)\n",
    "# y_hat = model.predict(x_test)\n",
    "\n",
    "vec_y_train = vectorize_y(y_train)\n",
    "\n",
    "model = NN(2)\n",
    "model.addDense(6)\n",
    "model.addDense(6)\n",
    "model.addDense(6)\n",
    "model.addDense(2)\n",
    "model.summary()\n",
    "model.fit()\n",
    "\n",
    "# X5 = [K2[0][i] for i in range(len(y_hat)) if y_hat[i]!=0]\n",
    "# X6 = [K2[1][i] for i in range(len(y_hat)) if y_hat[i]!=0]\n",
    "\n",
    "# X7 = [K2[0][i] for i in range(len(y_hat)) if y_hat[i]==0]\n",
    "# X8 = [K2[1][i] for i in range(len(y_hat)) if y_hat[i]==0]\n",
    "\n",
    "# plot.scatter(X5, X6, color='r', alpha=0.5)\n",
    "# plot.scatter(X7, X8, color='b', alpha=0.5)\n",
    "# plot.scatter(X1, X2, color='r', alpha=0.5)\n",
    "# plot.scatter(X3, X4, color='b', alpha=0.5)\n",
    "\n",
    "# print \"ACC:\", accuracy_score(y_hat, y_test)\n"
   ]
  }
 ],
 "metadata": {
  "kernelspec": {
   "display_name": "Python 2",
   "language": "python",
   "name": "python2"
  },
  "language_info": {
   "codemirror_mode": {
    "name": "ipython",
    "version": 2
   },
   "file_extension": ".py",
   "mimetype": "text/x-python",
   "name": "python",
   "nbconvert_exporter": "python",
   "pygments_lexer": "ipython2",
   "version": "2.7.12"
  }
 },
 "nbformat": 4,
 "nbformat_minor": 0
}
